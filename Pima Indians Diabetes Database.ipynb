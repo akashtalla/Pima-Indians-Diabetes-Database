{
 "cells": [
  {
   "cell_type": "markdown",
   "metadata": {},
   "source": [
    "# Pima-Indian-Diabetes-Prediction"
   ]
  },
  {
   "cell_type": "markdown",
   "metadata": {},
   "source": [
    "# Context"
   ]
  },
  {
   "cell_type": "markdown",
   "metadata": {},
   "source": [
    "This dataset is originally from the National Institute of Diabetes and Digestive and Kidney Diseases. \n",
    "The objective of the dataset is to diagnostically predict whether or not a patient has diabetes, based on certain diagnostic \n",
    "measurements included in the dataset. Several constraints were placed on the selection of these instances from a larger \n",
    "database. In particular, all patients here are females at least 21 years old of Pima Indian heritage."
   ]
  },
  {
   "cell_type": "markdown",
   "metadata": {},
   "source": [
    "# Content"
   ]
  },
  {
   "cell_type": "markdown",
   "metadata": {},
   "source": [
    "The datasets consists of several medical predictor variables and one target variable, Outcome. \n",
    "Predictor variables includes the number of pregnancies the patient has had, their BMI, insulin level, age, and so on."
   ]
  },
  {
   "cell_type": "markdown",
   "metadata": {},
   "source": [
    "Source : https://www.kaggle.com/uciml/pima-indians-diabetes-database"
   ]
  },
  {
   "cell_type": "code",
   "execution_count": 1,
   "metadata": {},
   "outputs": [],
   "source": [
    "'''Importing basic useful libraries for feature engineering'''\n",
    "\n",
    "import numpy as np\n",
    "import pandas as pd\n",
    "import matplotlib.pyplot as plt\n",
    "import seaborn as sns"
   ]
  },
  {
   "cell_type": "code",
   "execution_count": 2,
   "metadata": {},
   "outputs": [
    {
     "data": {
      "text/html": [
       "<div>\n",
       "<style scoped>\n",
       "    .dataframe tbody tr th:only-of-type {\n",
       "        vertical-align: middle;\n",
       "    }\n",
       "\n",
       "    .dataframe tbody tr th {\n",
       "        vertical-align: top;\n",
       "    }\n",
       "\n",
       "    .dataframe thead th {\n",
       "        text-align: right;\n",
       "    }\n",
       "</style>\n",
       "<table border=\"1\" class=\"dataframe\">\n",
       "  <thead>\n",
       "    <tr style=\"text-align: right;\">\n",
       "      <th></th>\n",
       "      <th>Pregnancies</th>\n",
       "      <th>Glucose</th>\n",
       "      <th>BloodPressure</th>\n",
       "      <th>SkinThickness</th>\n",
       "      <th>Insulin</th>\n",
       "      <th>BMI</th>\n",
       "      <th>DiabetesPedigreeFunction</th>\n",
       "      <th>Age</th>\n",
       "      <th>Outcome</th>\n",
       "    </tr>\n",
       "  </thead>\n",
       "  <tbody>\n",
       "    <tr>\n",
       "      <th>0</th>\n",
       "      <td>6</td>\n",
       "      <td>148</td>\n",
       "      <td>72</td>\n",
       "      <td>35</td>\n",
       "      <td>0</td>\n",
       "      <td>33.6</td>\n",
       "      <td>0.627</td>\n",
       "      <td>50</td>\n",
       "      <td>1</td>\n",
       "    </tr>\n",
       "    <tr>\n",
       "      <th>1</th>\n",
       "      <td>1</td>\n",
       "      <td>85</td>\n",
       "      <td>66</td>\n",
       "      <td>29</td>\n",
       "      <td>0</td>\n",
       "      <td>26.6</td>\n",
       "      <td>0.351</td>\n",
       "      <td>31</td>\n",
       "      <td>0</td>\n",
       "    </tr>\n",
       "    <tr>\n",
       "      <th>2</th>\n",
       "      <td>8</td>\n",
       "      <td>183</td>\n",
       "      <td>64</td>\n",
       "      <td>0</td>\n",
       "      <td>0</td>\n",
       "      <td>23.3</td>\n",
       "      <td>0.672</td>\n",
       "      <td>32</td>\n",
       "      <td>1</td>\n",
       "    </tr>\n",
       "    <tr>\n",
       "      <th>3</th>\n",
       "      <td>1</td>\n",
       "      <td>89</td>\n",
       "      <td>66</td>\n",
       "      <td>23</td>\n",
       "      <td>94</td>\n",
       "      <td>28.1</td>\n",
       "      <td>0.167</td>\n",
       "      <td>21</td>\n",
       "      <td>0</td>\n",
       "    </tr>\n",
       "    <tr>\n",
       "      <th>4</th>\n",
       "      <td>0</td>\n",
       "      <td>137</td>\n",
       "      <td>40</td>\n",
       "      <td>35</td>\n",
       "      <td>168</td>\n",
       "      <td>43.1</td>\n",
       "      <td>2.288</td>\n",
       "      <td>33</td>\n",
       "      <td>1</td>\n",
       "    </tr>\n",
       "  </tbody>\n",
       "</table>\n",
       "</div>"
      ],
      "text/plain": [
       "   Pregnancies  Glucose  BloodPressure  SkinThickness  Insulin   BMI  \\\n",
       "0            6      148             72             35        0  33.6   \n",
       "1            1       85             66             29        0  26.6   \n",
       "2            8      183             64              0        0  23.3   \n",
       "3            1       89             66             23       94  28.1   \n",
       "4            0      137             40             35      168  43.1   \n",
       "\n",
       "   DiabetesPedigreeFunction  Age  Outcome  \n",
       "0                     0.627   50        1  \n",
       "1                     0.351   31        0  \n",
       "2                     0.672   32        1  \n",
       "3                     0.167   21        0  \n",
       "4                     2.288   33        1  "
      ]
     },
     "execution_count": 2,
     "metadata": {},
     "output_type": "execute_result"
    }
   ],
   "source": [
    "diabetes_df = pd.read_csv(filepath_or_buffer=\"E:\\\\DataScience\\\\My Practice Datasets\\\\diabetes.csv\")\n",
    "diabetes_df.head()"
   ]
  },
  {
   "cell_type": "code",
   "execution_count": 3,
   "metadata": {},
   "outputs": [
    {
     "name": "stdout",
     "output_type": "stream",
     "text": [
      "No of records and features in Dataset: (768, 9) \n",
      "\n",
      "Checking the presence of null datapoints :\n",
      "\n",
      " Pregnancies                 0\n",
      "Glucose                     0\n",
      "BloodPressure               0\n",
      "SkinThickness               0\n",
      "Insulin                     0\n",
      "BMI                         0\n",
      "DiabetesPedigreeFunction    0\n",
      "Age                         0\n",
      "Outcome                     0\n",
      "dtype: int64 \n",
      "\n",
      "<class 'pandas.core.frame.DataFrame'>\n",
      "RangeIndex: 768 entries, 0 to 767\n",
      "Data columns (total 9 columns):\n",
      "Pregnancies                 768 non-null int64\n",
      "Glucose                     768 non-null int64\n",
      "BloodPressure               768 non-null int64\n",
      "SkinThickness               768 non-null int64\n",
      "Insulin                     768 non-null int64\n",
      "BMI                         768 non-null float64\n",
      "DiabetesPedigreeFunction    768 non-null float64\n",
      "Age                         768 non-null int64\n",
      "Outcome                     768 non-null int64\n",
      "dtypes: float64(2), int64(7)\n",
      "memory usage: 54.1 KB\n"
     ]
    }
   ],
   "source": [
    "print(\"No of records and features in Dataset:\", diabetes_df.shape, \"\\n\")\n",
    "print(\"Checking the presence of null datapoints :\\n\\n\", diabetes_df.isnull().sum(), \"\\n\")\n",
    "diabetes_df.info()"
   ]
  },
  {
   "cell_type": "code",
   "execution_count": null,
   "metadata": {},
   "outputs": [],
   "source": [
    "'''From above info we see null rows are not present but we also see some key features are having 0 value, \n",
    "   so we will impute them with their respective mean or median values'''"
   ]
  },
  {
   "cell_type": "code",
   "execution_count": 4,
   "metadata": {},
   "outputs": [
    {
     "name": "stdout",
     "output_type": "stream",
     "text": [
      "Pregnancies :\t 111\n",
      "Glucose :\t 5\n",
      "BloodPressure :\t 35\n",
      "SkinThickness :\t 227\n",
      "Insulin :\t 374\n",
      "BMI :\t 11\n",
      "DiabetesPedigreeFunction :\t 0\n",
      "Age :\t 0\n",
      "Outcome :\t 500\n"
     ]
    }
   ],
   "source": [
    "'''Checking count of 0s in each feature'''\n",
    "\n",
    "for i in diabetes_df.columns:\n",
    "    print(i, \":\\t\", len(diabetes_df[diabetes_df[i]==0].index))"
   ]
  },
  {
   "cell_type": "code",
   "execution_count": 5,
   "metadata": {},
   "outputs": [
    {
     "data": {
      "text/html": [
       "<div>\n",
       "<style scoped>\n",
       "    .dataframe tbody tr th:only-of-type {\n",
       "        vertical-align: middle;\n",
       "    }\n",
       "\n",
       "    .dataframe tbody tr th {\n",
       "        vertical-align: top;\n",
       "    }\n",
       "\n",
       "    .dataframe thead th {\n",
       "        text-align: right;\n",
       "    }\n",
       "</style>\n",
       "<table border=\"1\" class=\"dataframe\">\n",
       "  <thead>\n",
       "    <tr style=\"text-align: right;\">\n",
       "      <th></th>\n",
       "      <th>Pregnancies</th>\n",
       "      <th>Glucose</th>\n",
       "      <th>BloodPressure</th>\n",
       "      <th>SkinThickness</th>\n",
       "      <th>Insulin</th>\n",
       "      <th>BMI</th>\n",
       "      <th>DiabetesPedigreeFunction</th>\n",
       "      <th>Age</th>\n",
       "      <th>Outcome</th>\n",
       "    </tr>\n",
       "  </thead>\n",
       "  <tbody>\n",
       "    <tr>\n",
       "      <th>0</th>\n",
       "      <td>6</td>\n",
       "      <td>148.0</td>\n",
       "      <td>72.0</td>\n",
       "      <td>35.0</td>\n",
       "      <td>NaN</td>\n",
       "      <td>33.6</td>\n",
       "      <td>0.627</td>\n",
       "      <td>50</td>\n",
       "      <td>1</td>\n",
       "    </tr>\n",
       "    <tr>\n",
       "      <th>1</th>\n",
       "      <td>1</td>\n",
       "      <td>85.0</td>\n",
       "      <td>66.0</td>\n",
       "      <td>29.0</td>\n",
       "      <td>NaN</td>\n",
       "      <td>26.6</td>\n",
       "      <td>0.351</td>\n",
       "      <td>31</td>\n",
       "      <td>0</td>\n",
       "    </tr>\n",
       "    <tr>\n",
       "      <th>2</th>\n",
       "      <td>8</td>\n",
       "      <td>183.0</td>\n",
       "      <td>64.0</td>\n",
       "      <td>NaN</td>\n",
       "      <td>NaN</td>\n",
       "      <td>23.3</td>\n",
       "      <td>0.672</td>\n",
       "      <td>32</td>\n",
       "      <td>1</td>\n",
       "    </tr>\n",
       "    <tr>\n",
       "      <th>3</th>\n",
       "      <td>1</td>\n",
       "      <td>89.0</td>\n",
       "      <td>66.0</td>\n",
       "      <td>23.0</td>\n",
       "      <td>94.0</td>\n",
       "      <td>28.1</td>\n",
       "      <td>0.167</td>\n",
       "      <td>21</td>\n",
       "      <td>0</td>\n",
       "    </tr>\n",
       "    <tr>\n",
       "      <th>4</th>\n",
       "      <td>0</td>\n",
       "      <td>137.0</td>\n",
       "      <td>40.0</td>\n",
       "      <td>35.0</td>\n",
       "      <td>168.0</td>\n",
       "      <td>43.1</td>\n",
       "      <td>2.288</td>\n",
       "      <td>33</td>\n",
       "      <td>1</td>\n",
       "    </tr>\n",
       "  </tbody>\n",
       "</table>\n",
       "</div>"
      ],
      "text/plain": [
       "   Pregnancies  Glucose  BloodPressure  SkinThickness  Insulin   BMI  \\\n",
       "0            6    148.0           72.0           35.0      NaN  33.6   \n",
       "1            1     85.0           66.0           29.0      NaN  26.6   \n",
       "2            8    183.0           64.0            NaN      NaN  23.3   \n",
       "3            1     89.0           66.0           23.0     94.0  28.1   \n",
       "4            0    137.0           40.0           35.0    168.0  43.1   \n",
       "\n",
       "   DiabetesPedigreeFunction  Age  Outcome  \n",
       "0                     0.627   50        1  \n",
       "1                     0.351   31        0  \n",
       "2                     0.672   32        1  \n",
       "3                     0.167   21        0  \n",
       "4                     2.288   33        1  "
      ]
     },
     "execution_count": 5,
     "metadata": {},
     "output_type": "execute_result"
    }
   ],
   "source": [
    "'''First, We will impute some key features 0 values with NaN'''\n",
    "\n",
    "diabetes_df['Glucose'].replace(0, np.nan, inplace=True)\n",
    "diabetes_df['BloodPressure'].replace(0, np.nan, inplace=True)\n",
    "diabetes_df['SkinThickness'].replace(0, np.nan, inplace=True)\n",
    "diabetes_df['Insulin'].replace(0, np.nan, inplace=True)\n",
    "diabetes_df['BMI'].replace(0, np.nan, inplace=True)\n",
    "diabetes_df.head()"
   ]
  },
  {
   "cell_type": "code",
   "execution_count": 6,
   "metadata": {},
   "outputs": [
    {
     "data": {
      "text/plain": [
       "Pregnancies                 0\n",
       "Glucose                     0\n",
       "BloodPressure               0\n",
       "SkinThickness               0\n",
       "Insulin                     0\n",
       "BMI                         0\n",
       "DiabetesPedigreeFunction    0\n",
       "Age                         0\n",
       "Outcome                     0\n",
       "dtype: int64"
      ]
     },
     "execution_count": 6,
     "metadata": {},
     "output_type": "execute_result"
    }
   ],
   "source": [
    "'''Now, we will impute NaN valued features with their respective mean'''\n",
    "\n",
    "diabetes_df['Glucose'].fillna(diabetes_df['Glucose'].mean(), inplace=True)\n",
    "diabetes_df['BloodPressure'].fillna(diabetes_df['BloodPressure'].mean(), inplace=True)\n",
    "diabetes_df['SkinThickness'].fillna(diabetes_df['SkinThickness'].mean(), inplace=True)\n",
    "diabetes_df['Insulin'].fillna(diabetes_df['Insulin'].mean(), inplace=True)\n",
    "diabetes_df['BMI'].fillna(diabetes_df['BMI'].mean(), inplace=True)\n",
    "diabetes_df.isnull().sum()"
   ]
  },
  {
   "cell_type": "code",
   "execution_count": 7,
   "metadata": {},
   "outputs": [
    {
     "data": {
      "text/html": [
       "<div>\n",
       "<style scoped>\n",
       "    .dataframe tbody tr th:only-of-type {\n",
       "        vertical-align: middle;\n",
       "    }\n",
       "\n",
       "    .dataframe tbody tr th {\n",
       "        vertical-align: top;\n",
       "    }\n",
       "\n",
       "    .dataframe thead th {\n",
       "        text-align: right;\n",
       "    }\n",
       "</style>\n",
       "<table border=\"1\" class=\"dataframe\">\n",
       "  <thead>\n",
       "    <tr style=\"text-align: right;\">\n",
       "      <th></th>\n",
       "      <th>Pregnancies</th>\n",
       "      <th>Glucose</th>\n",
       "      <th>BloodPressure</th>\n",
       "      <th>SkinThickness</th>\n",
       "      <th>Insulin</th>\n",
       "      <th>BMI</th>\n",
       "      <th>DiabetesPedigreeFunction</th>\n",
       "      <th>Age</th>\n",
       "      <th>Outcome</th>\n",
       "    </tr>\n",
       "  </thead>\n",
       "  <tbody>\n",
       "    <tr>\n",
       "      <th>count</th>\n",
       "      <td>768.000000</td>\n",
       "      <td>768.000000</td>\n",
       "      <td>768.000000</td>\n",
       "      <td>768.000000</td>\n",
       "      <td>768.000000</td>\n",
       "      <td>768.000000</td>\n",
       "      <td>768.000000</td>\n",
       "      <td>768.000000</td>\n",
       "      <td>768.000000</td>\n",
       "    </tr>\n",
       "    <tr>\n",
       "      <th>mean</th>\n",
       "      <td>3.845052</td>\n",
       "      <td>121.686763</td>\n",
       "      <td>72.405184</td>\n",
       "      <td>29.153420</td>\n",
       "      <td>155.548223</td>\n",
       "      <td>32.457464</td>\n",
       "      <td>0.471876</td>\n",
       "      <td>33.240885</td>\n",
       "      <td>0.348958</td>\n",
       "    </tr>\n",
       "    <tr>\n",
       "      <th>std</th>\n",
       "      <td>3.369578</td>\n",
       "      <td>30.435949</td>\n",
       "      <td>12.096346</td>\n",
       "      <td>8.790942</td>\n",
       "      <td>85.021108</td>\n",
       "      <td>6.875151</td>\n",
       "      <td>0.331329</td>\n",
       "      <td>11.760232</td>\n",
       "      <td>0.476951</td>\n",
       "    </tr>\n",
       "    <tr>\n",
       "      <th>min</th>\n",
       "      <td>0.000000</td>\n",
       "      <td>44.000000</td>\n",
       "      <td>24.000000</td>\n",
       "      <td>7.000000</td>\n",
       "      <td>14.000000</td>\n",
       "      <td>18.200000</td>\n",
       "      <td>0.078000</td>\n",
       "      <td>21.000000</td>\n",
       "      <td>0.000000</td>\n",
       "    </tr>\n",
       "    <tr>\n",
       "      <th>25%</th>\n",
       "      <td>1.000000</td>\n",
       "      <td>99.750000</td>\n",
       "      <td>64.000000</td>\n",
       "      <td>25.000000</td>\n",
       "      <td>121.500000</td>\n",
       "      <td>27.500000</td>\n",
       "      <td>0.243750</td>\n",
       "      <td>24.000000</td>\n",
       "      <td>0.000000</td>\n",
       "    </tr>\n",
       "    <tr>\n",
       "      <th>50%</th>\n",
       "      <td>3.000000</td>\n",
       "      <td>117.000000</td>\n",
       "      <td>72.202592</td>\n",
       "      <td>29.153420</td>\n",
       "      <td>155.548223</td>\n",
       "      <td>32.400000</td>\n",
       "      <td>0.372500</td>\n",
       "      <td>29.000000</td>\n",
       "      <td>0.000000</td>\n",
       "    </tr>\n",
       "    <tr>\n",
       "      <th>75%</th>\n",
       "      <td>6.000000</td>\n",
       "      <td>140.250000</td>\n",
       "      <td>80.000000</td>\n",
       "      <td>32.000000</td>\n",
       "      <td>155.548223</td>\n",
       "      <td>36.600000</td>\n",
       "      <td>0.626250</td>\n",
       "      <td>41.000000</td>\n",
       "      <td>1.000000</td>\n",
       "    </tr>\n",
       "    <tr>\n",
       "      <th>99%</th>\n",
       "      <td>13.000000</td>\n",
       "      <td>196.000000</td>\n",
       "      <td>106.000000</td>\n",
       "      <td>51.330000</td>\n",
       "      <td>519.900000</td>\n",
       "      <td>50.759000</td>\n",
       "      <td>1.698330</td>\n",
       "      <td>67.000000</td>\n",
       "      <td>1.000000</td>\n",
       "    </tr>\n",
       "    <tr>\n",
       "      <th>max</th>\n",
       "      <td>17.000000</td>\n",
       "      <td>199.000000</td>\n",
       "      <td>122.000000</td>\n",
       "      <td>99.000000</td>\n",
       "      <td>846.000000</td>\n",
       "      <td>67.100000</td>\n",
       "      <td>2.420000</td>\n",
       "      <td>81.000000</td>\n",
       "      <td>1.000000</td>\n",
       "    </tr>\n",
       "  </tbody>\n",
       "</table>\n",
       "</div>"
      ],
      "text/plain": [
       "       Pregnancies     Glucose  BloodPressure  SkinThickness     Insulin  \\\n",
       "count   768.000000  768.000000     768.000000     768.000000  768.000000   \n",
       "mean      3.845052  121.686763      72.405184      29.153420  155.548223   \n",
       "std       3.369578   30.435949      12.096346       8.790942   85.021108   \n",
       "min       0.000000   44.000000      24.000000       7.000000   14.000000   \n",
       "25%       1.000000   99.750000      64.000000      25.000000  121.500000   \n",
       "50%       3.000000  117.000000      72.202592      29.153420  155.548223   \n",
       "75%       6.000000  140.250000      80.000000      32.000000  155.548223   \n",
       "99%      13.000000  196.000000     106.000000      51.330000  519.900000   \n",
       "max      17.000000  199.000000     122.000000      99.000000  846.000000   \n",
       "\n",
       "              BMI  DiabetesPedigreeFunction         Age     Outcome  \n",
       "count  768.000000                768.000000  768.000000  768.000000  \n",
       "mean    32.457464                  0.471876   33.240885    0.348958  \n",
       "std      6.875151                  0.331329   11.760232    0.476951  \n",
       "min     18.200000                  0.078000   21.000000    0.000000  \n",
       "25%     27.500000                  0.243750   24.000000    0.000000  \n",
       "50%     32.400000                  0.372500   29.000000    0.000000  \n",
       "75%     36.600000                  0.626250   41.000000    1.000000  \n",
       "99%     50.759000                  1.698330   67.000000    1.000000  \n",
       "max     67.100000                  2.420000   81.000000    1.000000  "
      ]
     },
     "execution_count": 7,
     "metadata": {},
     "output_type": "execute_result"
    }
   ],
   "source": [
    "'''Describing Dataset to understand the the presence of outliers'''\n",
    "diabetes_df.describe(percentiles=[0.25,0.50,0.75,0.99])"
   ]
  },
  {
   "cell_type": "code",
   "execution_count": null,
   "metadata": {
    "collapsed": true
   },
   "outputs": [],
   "source": [
    "'''From the above description of the dataset, we see that there are some outliers present as there is a huge difference between \n",
    "the 75% and 99%, so we will remove some outliers'''"
   ]
  },
  {
   "cell_type": "code",
   "execution_count": 8,
   "metadata": {},
   "outputs": [
    {
     "name": "stdout",
     "output_type": "stream",
     "text": [
      "(747, 9)\n"
     ]
    }
   ],
   "source": [
    "'''Removing outliers from all features'''\n",
    "\n",
    "Q1 = diabetes_df.quantile(0.10)\n",
    "Q3 = diabetes_df.quantile(0.90)\n",
    "IQR = Q3 - Q1\n",
    "\n",
    "diabetes_df = diabetes_df[~((diabetes_df < (Q1 - 1.5 * IQR)) | (diabetes_df > (Q3 + 1.5 * IQR))).any(axis=1)] \n",
    "print(diabetes_df.shape)"
   ]
  },
  {
   "cell_type": "code",
   "execution_count": 9,
   "metadata": {},
   "outputs": [
    {
     "data": {
      "text/html": [
       "<div>\n",
       "<style scoped>\n",
       "    .dataframe tbody tr th:only-of-type {\n",
       "        vertical-align: middle;\n",
       "    }\n",
       "\n",
       "    .dataframe tbody tr th {\n",
       "        vertical-align: top;\n",
       "    }\n",
       "\n",
       "    .dataframe thead th {\n",
       "        text-align: right;\n",
       "    }\n",
       "</style>\n",
       "<table border=\"1\" class=\"dataframe\">\n",
       "  <thead>\n",
       "    <tr style=\"text-align: right;\">\n",
       "      <th></th>\n",
       "      <th>Pregnancies</th>\n",
       "      <th>Glucose</th>\n",
       "      <th>BloodPressure</th>\n",
       "      <th>SkinThickness</th>\n",
       "      <th>Insulin</th>\n",
       "      <th>BMI</th>\n",
       "      <th>DiabetesPedigreeFunction</th>\n",
       "      <th>Age</th>\n",
       "      <th>Outcome</th>\n",
       "    </tr>\n",
       "  </thead>\n",
       "  <tbody>\n",
       "    <tr>\n",
       "      <th>count</th>\n",
       "      <td>747.000000</td>\n",
       "      <td>747.000000</td>\n",
       "      <td>747.000000</td>\n",
       "      <td>747.000000</td>\n",
       "      <td>747.000000</td>\n",
       "      <td>747.000000</td>\n",
       "      <td>747.000000</td>\n",
       "      <td>747.000000</td>\n",
       "      <td>747.000000</td>\n",
       "    </tr>\n",
       "    <tr>\n",
       "      <th>mean</th>\n",
       "      <td>3.875502</td>\n",
       "      <td>120.423606</td>\n",
       "      <td>72.419252</td>\n",
       "      <td>28.849834</td>\n",
       "      <td>146.244294</td>\n",
       "      <td>32.295625</td>\n",
       "      <td>0.462150</td>\n",
       "      <td>33.182062</td>\n",
       "      <td>0.338688</td>\n",
       "    </tr>\n",
       "    <tr>\n",
       "      <th>std</th>\n",
       "      <td>3.380162</td>\n",
       "      <td>29.701152</td>\n",
       "      <td>12.077689</td>\n",
       "      <td>8.275379</td>\n",
       "      <td>57.631471</td>\n",
       "      <td>6.792201</td>\n",
       "      <td>0.305768</td>\n",
       "      <td>11.689300</td>\n",
       "      <td>0.473581</td>\n",
       "    </tr>\n",
       "    <tr>\n",
       "      <th>min</th>\n",
       "      <td>0.000000</td>\n",
       "      <td>44.000000</td>\n",
       "      <td>24.000000</td>\n",
       "      <td>7.000000</td>\n",
       "      <td>15.000000</td>\n",
       "      <td>18.200000</td>\n",
       "      <td>0.078000</td>\n",
       "      <td>21.000000</td>\n",
       "      <td>0.000000</td>\n",
       "    </tr>\n",
       "    <tr>\n",
       "      <th>25%</th>\n",
       "      <td>1.000000</td>\n",
       "      <td>99.000000</td>\n",
       "      <td>64.000000</td>\n",
       "      <td>25.000000</td>\n",
       "      <td>120.000000</td>\n",
       "      <td>27.400000</td>\n",
       "      <td>0.243500</td>\n",
       "      <td>24.000000</td>\n",
       "      <td>0.000000</td>\n",
       "    </tr>\n",
       "    <tr>\n",
       "      <th>50%</th>\n",
       "      <td>3.000000</td>\n",
       "      <td>116.000000</td>\n",
       "      <td>72.405184</td>\n",
       "      <td>29.153420</td>\n",
       "      <td>155.548223</td>\n",
       "      <td>32.300000</td>\n",
       "      <td>0.368000</td>\n",
       "      <td>29.000000</td>\n",
       "      <td>0.000000</td>\n",
       "    </tr>\n",
       "    <tr>\n",
       "      <th>75%</th>\n",
       "      <td>6.000000</td>\n",
       "      <td>138.000000</td>\n",
       "      <td>80.000000</td>\n",
       "      <td>32.000000</td>\n",
       "      <td>155.548223</td>\n",
       "      <td>36.350000</td>\n",
       "      <td>0.613500</td>\n",
       "      <td>40.500000</td>\n",
       "      <td>1.000000</td>\n",
       "    </tr>\n",
       "    <tr>\n",
       "      <th>99%</th>\n",
       "      <td>13.000000</td>\n",
       "      <td>194.540000</td>\n",
       "      <td>106.000000</td>\n",
       "      <td>50.000000</td>\n",
       "      <td>338.780000</td>\n",
       "      <td>49.654000</td>\n",
       "      <td>1.451800</td>\n",
       "      <td>67.000000</td>\n",
       "      <td>1.000000</td>\n",
       "    </tr>\n",
       "    <tr>\n",
       "      <th>max</th>\n",
       "      <td>17.000000</td>\n",
       "      <td>199.000000</td>\n",
       "      <td>122.000000</td>\n",
       "      <td>60.000000</td>\n",
       "      <td>415.000000</td>\n",
       "      <td>67.100000</td>\n",
       "      <td>1.893000</td>\n",
       "      <td>81.000000</td>\n",
       "      <td>1.000000</td>\n",
       "    </tr>\n",
       "  </tbody>\n",
       "</table>\n",
       "</div>"
      ],
      "text/plain": [
       "       Pregnancies     Glucose  BloodPressure  SkinThickness     Insulin  \\\n",
       "count   747.000000  747.000000     747.000000     747.000000  747.000000   \n",
       "mean      3.875502  120.423606      72.419252      28.849834  146.244294   \n",
       "std       3.380162   29.701152      12.077689       8.275379   57.631471   \n",
       "min       0.000000   44.000000      24.000000       7.000000   15.000000   \n",
       "25%       1.000000   99.000000      64.000000      25.000000  120.000000   \n",
       "50%       3.000000  116.000000      72.405184      29.153420  155.548223   \n",
       "75%       6.000000  138.000000      80.000000      32.000000  155.548223   \n",
       "99%      13.000000  194.540000     106.000000      50.000000  338.780000   \n",
       "max      17.000000  199.000000     122.000000      60.000000  415.000000   \n",
       "\n",
       "              BMI  DiabetesPedigreeFunction         Age     Outcome  \n",
       "count  747.000000                747.000000  747.000000  747.000000  \n",
       "mean    32.295625                  0.462150   33.182062    0.338688  \n",
       "std      6.792201                  0.305768   11.689300    0.473581  \n",
       "min     18.200000                  0.078000   21.000000    0.000000  \n",
       "25%     27.400000                  0.243500   24.000000    0.000000  \n",
       "50%     32.300000                  0.368000   29.000000    0.000000  \n",
       "75%     36.350000                  0.613500   40.500000    1.000000  \n",
       "99%     49.654000                  1.451800   67.000000    1.000000  \n",
       "max     67.100000                  1.893000   81.000000    1.000000  "
      ]
     },
     "execution_count": 9,
     "metadata": {},
     "output_type": "execute_result"
    }
   ],
   "source": [
    "'''Describing dataset again to check if outliers removed successfully or not'''\n",
    "diabetes_df.describe(percentiles=[0.25,0.50,0.75,0.99])"
   ]
  },
  {
   "cell_type": "code",
   "execution_count": 10,
   "metadata": {},
   "outputs": [
    {
     "name": "stdout",
     "output_type": "stream",
     "text": [
      "(747, 8)\n",
      "(747,)\n"
     ]
    }
   ],
   "source": [
    "'''Now, Separating features(X) and target(y)'''\n",
    "\n",
    "X = diabetes_df.drop('Outcome', axis=1).values\n",
    "y = diabetes_df['Outcome'].values\n",
    "print(X.shape)\n",
    "print(y.shape)"
   ]
  },
  {
   "cell_type": "code",
   "execution_count": 11,
   "metadata": {},
   "outputs": [
    {
     "name": "stdout",
     "output_type": "stream",
     "text": [
      "[[6.00000000e+00 1.48000000e+02 7.20000000e+01 3.50000000e+01\n",
      "  1.55548223e+02 3.36000000e+01 6.27000000e-01 5.00000000e+01]\n",
      " [1.00000000e+00 8.50000000e+01 6.60000000e+01 2.90000000e+01\n",
      "  1.55548223e+02 2.66000000e+01 3.51000000e-01 3.10000000e+01]\n",
      " [8.00000000e+00 1.83000000e+02 6.40000000e+01 2.91534196e+01\n",
      "  1.55548223e+02 2.33000000e+01 6.72000000e-01 3.20000000e+01]\n",
      " [1.00000000e+00 8.90000000e+01 6.60000000e+01 2.30000000e+01\n",
      "  9.40000000e+01 2.81000000e+01 1.67000000e-01 2.10000000e+01]\n",
      " [5.00000000e+00 1.16000000e+02 7.40000000e+01 2.91534196e+01\n",
      "  1.55548223e+02 2.56000000e+01 2.01000000e-01 3.00000000e+01]]\n"
     ]
    }
   ],
   "source": [
    "'''Printing 1st 5 values of all features(X)'''\n",
    "\n",
    "print(X[:5,:])"
   ]
  },
  {
   "cell_type": "code",
   "execution_count": 12,
   "metadata": {},
   "outputs": [
    {
     "name": "stdout",
     "output_type": "stream",
     "text": [
      "[[ 0.62894061  0.92908419 -0.03473621  0.74368633  0.16154652  0.19216874\n",
      "   0.53949574  1.43971041]\n",
      " [-0.85126933 -1.19346686 -0.53185285  0.01815823  0.16154652 -0.83911557\n",
      "  -0.36375426 -0.18679678]\n",
      " [ 1.22102459  2.10827921 -0.6975584   0.03670994  0.16154652 -1.32529245\n",
      "   0.68676476 -0.10119114]\n",
      " [-0.85126933 -1.05870172 -0.53185285 -0.70736986 -0.90713107 -0.61812607\n",
      "  -0.96592093 -1.0428532 ]\n",
      " [ 0.33289862 -0.14903698  0.13096933  0.03670994  0.16154652 -0.98644189\n",
      "  -0.854651   -0.27240242]]\n"
     ]
    }
   ],
   "source": [
    "'''Performing Standardisation on the cleaned feature data(X) so that we can bring them on the same scale from -2 to +2'''\n",
    "\n",
    "from sklearn.preprocessing import StandardScaler\n",
    "scl = StandardScaler()\n",
    "X = scl.fit_transform(X)\n",
    "print(X[:5,:])"
   ]
  },
  {
   "cell_type": "code",
   "execution_count": 13,
   "metadata": {},
   "outputs": [
    {
     "name": "stdout",
     "output_type": "stream",
     "text": [
      "70% Features Training Data :  (522, 8)\n",
      "30% Features Testing Data :  (225, 8)\n",
      "70% Target Training Data :  (522,)\n",
      "30% Target Testing Data :  (225,)\n"
     ]
    }
   ],
   "source": [
    "'''Spliting features(X) and target(y) data into 70% training to train our model and 30% testing to test our model'''\n",
    "\n",
    "from sklearn.model_selection import train_test_split, KFold, cross_val_score\n",
    "\n",
    "X_train, X_test, y_train, y_test = train_test_split(X, y, test_size=0.3, random_state=10)\n",
    "\n",
    "print(\"70% Features Training Data : \", X_train.shape)\n",
    "print(\"30% Features Testing Data : \", X_test.shape)\n",
    "print(\"70% Target Training Data : \", y_train.shape)\n",
    "print(\"30% Target Testing Data : \", y_test.shape)"
   ]
  },
  {
   "cell_type": "markdown",
   "metadata": {},
   "source": [
    "# Using Logistic Regression Model"
   ]
  },
  {
   "cell_type": "code",
   "execution_count": 14,
   "metadata": {},
   "outputs": [
    {
     "data": {
      "text/plain": [
       "LogisticRegression(C=1.0, class_weight=None, dual=False, fit_intercept=True,\n",
       "          intercept_scaling=1, max_iter=100, multi_class='ovr', n_jobs=1,\n",
       "          penalty='l2', random_state=None, solver='liblinear', tol=0.0001,\n",
       "          verbose=0, warm_start=False)"
      ]
     },
     "execution_count": 14,
     "metadata": {},
     "output_type": "execute_result"
    }
   ],
   "source": [
    "'''Imporing and Creating object of Logistic Regression model'''\n",
    "\n",
    "from sklearn.linear_model import LogisticRegression\n",
    "\n",
    "log_model = LogisticRegression()\n",
    "\n",
    "'''Fitting model object with training data to train our model'''\n",
    "\n",
    "log_model.fit(X_train, y_train)"
   ]
  },
  {
   "cell_type": "code",
   "execution_count": 15,
   "metadata": {},
   "outputs": [],
   "source": [
    "'''Making class predictions on testing data'''\n",
    "\n",
    "y_pred = log_model.predict(X_test)"
   ]
  },
  {
   "cell_type": "code",
   "execution_count": 16,
   "metadata": {},
   "outputs": [
    {
     "data": {
      "text/plain": [
       "(225,)"
      ]
     },
     "execution_count": 16,
     "metadata": {},
     "output_type": "execute_result"
    }
   ],
   "source": [
    "'''Checking predicted data shape'''\n",
    "\n",
    "y_pred.shape"
   ]
  },
  {
   "cell_type": "code",
   "execution_count": 17,
   "metadata": {},
   "outputs": [
    {
     "name": "stdout",
     "output_type": "stream",
     "text": [
      "Cross Validation Score of 10 folds :\n",
      " [0.79245283 0.81132075 0.80769231 0.82692308 0.65384615 0.71153846\n",
      " 0.82692308 0.71153846 0.69230769 0.73076923] \n",
      "\n",
      "Average Cross Val Score :  0.7565312046444121\n"
     ]
    }
   ],
   "source": [
    "'''Checking Cross validation Score'''\n",
    "\n",
    "folds = KFold(n_splits=10, shuffle=False, random_state=10)\n",
    "CrossValScore = cross_val_score(estimator=log_model, X=X_train, y=y_train, cv=folds)\n",
    "print(\"Cross Validation Score of 10 folds :\\n\", CrossValScore, \"\\n\")\n",
    "print(\"Average Cross Val Score : \", CrossValScore.mean())"
   ]
  },
  {
   "cell_type": "code",
   "execution_count": 18,
   "metadata": {},
   "outputs": [
    {
     "name": "stdout",
     "output_type": "stream",
     "text": [
      "Accuracy Score :  0.8044444444444444 \n",
      "\n",
      "Classification Report :\n",
      "              precision    recall  f1-score   support\n",
      "\n",
      "          0       0.82      0.91      0.86       151\n",
      "          1       0.77      0.58      0.66        74\n",
      "\n",
      "avg / total       0.80      0.80      0.80       225\n",
      " \n",
      "\n",
      "Confusion Matrix :\n",
      " [[138  13]\n",
      " [ 31  43]]\n"
     ]
    }
   ],
   "source": [
    "'''Checking model Accuracy Score, Classification Report and Confusion Matrix to understand the accuracy'''\n",
    "\n",
    "from sklearn.metrics import accuracy_score, classification_report, confusion_matrix\n",
    "\n",
    "print(\"Accuracy Score : \", accuracy_score(y_test, y_pred), \"\\n\")\n",
    "print(\"Classification Report :\\n\", classification_report(y_test, y_pred), \"\\n\")\n",
    "print(\"Confusion Matrix :\\n\", confusion_matrix(y_test, y_pred))"
   ]
  },
  {
   "cell_type": "code",
   "execution_count": 19,
   "metadata": {},
   "outputs": [
    {
     "name": "stdout",
     "output_type": "stream",
     "text": [
      "[[0.89935037 0.10064963]\n",
      " [0.27367474 0.72632526]\n",
      " [0.29186974 0.70813026]\n",
      " [0.90368202 0.09631798]\n",
      " [0.67297165 0.32702835]]\n"
     ]
    }
   ],
   "source": [
    "'''Finding class predictions probabilities of testing data and printing first 5 records'''\n",
    "\n",
    "y_pred_prob = log_model.predict_proba(X_test)\n",
    "print(y_pred_prob[:5,:])"
   ]
  },
  {
   "cell_type": "code",
   "execution_count": 20,
   "metadata": {},
   "outputs": [
    {
     "data": {
      "image/png": "[encoded data removed]",
      "text/plain": [
       "<Figure size 432x288 with 1 Axes>"
      ]
     },
     "metadata": {},
     "output_type": "display_data"
    }
   ],
   "source": [
    "'''Defining random probability cutoff to understand Accuracy, Sensitivity, Specificity of Class 1(diabetic) values by unpacking \n",
    "   confusion matix data'''\n",
    "\n",
    "p_cutoff = np.linspace(0.20,0.35,20)\n",
    "acc = []\n",
    "sen = []\n",
    "spe = []\n",
    "\n",
    "for pc in p_cutoff:\n",
    "    y_test_pred = [1 if y>pc else 0 for y in y_pred_prob[:,1]]\n",
    "    tn, fp, fn, tp = confusion_matrix(y_test,y_test_pred).ravel()\n",
    "    acc.append(accuracy_score(y_test,y_test_pred))\n",
    "    sen.append(tp/(tp+fn))\n",
    "    spe.append(tn/(tn+fp))\n",
    "\n",
    "plt.plot(p_cutoff, acc, color='red', label=\"Accuracy\")\n",
    "plt.plot(p_cutoff, sen, color='green', label=\"Sensitivity\")\n",
    "plt.plot(p_cutoff, spe, color='blue', label=\"Specificity\")\n",
    "plt.xlabel(\"Probability Cutoffs\")\n",
    "plt.ylabel(\"Accuracies\")\n",
    "plt.title(\"Probability Cutoffs vs Accuracies\")\n",
    "plt.legend(loc=4)\n",
    "plt.show()"
   ]
  },
  {
   "cell_type": "code",
   "execution_count": 21,
   "metadata": {},
   "outputs": [
    {
     "name": "stdout",
     "output_type": "stream",
     "text": [
      "False Positive Rate (FPR) :\n",
      " (70,) \n",
      "\n",
      "True Positive Rate (TPR) :\n",
      " (70,) \n",
      "\n",
      "Threshold Values :\n",
      "\n",
      " [1.96398527 0.96398527 0.8289923  0.82696869 0.76149443 0.74941653\n",
      " 0.74838183 0.73893429 0.69647084 0.69395803 0.6834287  0.67532179\n",
      " 0.6255296  0.62411133 0.62332166 0.59806856 0.57740863 0.56475974\n",
      " 0.52669834 0.52193169 0.51865013 0.51603319 0.50817913 0.4995695\n",
      " 0.47546217 0.45319389 0.45250477 0.43656215 0.42286526 0.4152622\n",
      " 0.3957464  0.38667077 0.3792457  0.37869743 0.37648309 0.36847467\n",
      " 0.35146847 0.34242751 0.33924598 0.32702835 0.32659106 0.30522534\n",
      " 0.30480786 0.28294039 0.27768738 0.27552098 0.27393256 0.26786468\n",
      " 0.25725363 0.25412778 0.25345332 0.2422741  0.22938842 0.19841081\n",
      " 0.1952045  0.18808264 0.18110491 0.16035347 0.15485612 0.15413338\n",
      " 0.15031909 0.1434997  0.14311254 0.14232915 0.14032816 0.11261469\n",
      " 0.11244682 0.09976033 0.09773757 0.01262221]\n"
     ]
    }
   ],
   "source": [
    "'''Calculating FPR, TPR and Thresholds values'''\n",
    "\n",
    "from sklearn.metrics import roc_auc_score, roc_curve\n",
    "\n",
    "fpr, tpr, thresholds = roc_curve(y_test, y_pred_prob[:,1])\n",
    "print(\"False Positive Rate (FPR) :\\n\", fpr.shape, \"\\n\")\n",
    "print(\"True Positive Rate (TPR) :\\n\", tpr.shape, \"\\n\")\n",
    "print(\"Threshold Values :\\n\\n\", thresholds)"
   ]
  },
  {
   "cell_type": "code",
   "execution_count": 22,
   "metadata": {},
   "outputs": [
    {
     "data": {
      "text/plain": [
       "Text(0.5,1,'ROC-AUC Curve')"
      ]
     },
     "execution_count": 22,
     "metadata": {},
     "output_type": "execute_result"
    },
    {
     "data": {
      "image/png": "[encoded data removed]",
      "text/plain": [
       "<Figure size 432x288 with 1 Axes>"
      ]
     },
     "metadata": {},
     "output_type": "display_data"
    }
   ],
   "source": [
    "'''Visualising FPR vs TPR on plot'''\n",
    "\n",
    "plt.plot([0,1],[0,1])\n",
    "plt.plot(fpr,tpr,label=\"Validation\")\n",
    "plt.legend(loc=4)\n",
    "plt.xlabel(\"False Positive Rate (FPR)\")\n",
    "plt.ylabel(\"True Positive Rate (FPR)\")\n",
    "plt.title(\"ROC-AUC Curve\")"
   ]
  },
  {
   "cell_type": "code",
   "execution_count": 23,
   "metadata": {},
   "outputs": [
    {
     "name": "stdout",
     "output_type": "stream",
     "text": [
      "AUC Score :  0.861643100053696\n"
     ]
    }
   ],
   "source": [
    "'''Calculating Area Under the Curve of ROC (Reciever Operating Characteristic)'''\n",
    "\n",
    "AUC_Score = roc_auc_score(y_test, y_pred_prob[:,1])\n",
    "print(\"AUC Score : \", AUC_Score)"
   ]
  },
  {
   "cell_type": "markdown",
   "metadata": {},
   "source": [
    "# Using KNN (K-Nearest Neighbors) Model"
   ]
  },
  {
   "cell_type": "code",
   "execution_count": 24,
   "metadata": {},
   "outputs": [
    {
     "data": {
      "text/plain": [
       "KNeighborsClassifier(algorithm='auto', leaf_size=30, metric='minkowski',\n",
       "           metric_params=None, n_jobs=1, n_neighbors=1, p=2,\n",
       "           weights='uniform')"
      ]
     },
     "execution_count": 24,
     "metadata": {},
     "output_type": "execute_result"
    }
   ],
   "source": [
    "'''Imporing and Creating object of Logistic Regression model'''\n",
    "\n",
    "from sklearn.neighbors import KNeighborsClassifier\n",
    "knn = KNeighborsClassifier(n_neighbors=1)\n",
    "\n",
    "'''Fitting model object with training data to train our model'''\n",
    "\n",
    "knn.fit(X_train, y_train)"
   ]
  },
  {
   "cell_type": "code",
   "execution_count": 25,
   "metadata": {},
   "outputs": [
    {
     "name": "stdout",
     "output_type": "stream",
     "text": [
      "(522,)\n",
      "(225,)\n"
     ]
    }
   ],
   "source": [
    "'''Making class predictions on training and testing data and checking their shapes'''\n",
    "\n",
    "y_train_pred_knn = knn.predict(X_train)\n",
    "y_test_pred_knn = knn.predict(X_test)\n",
    "print(y_train_pred_knn.shape)\n",
    "print(y_test_pred_knn.shape)"
   ]
  },
  {
   "cell_type": "code",
   "execution_count": 26,
   "metadata": {},
   "outputs": [
    {
     "name": "stdout",
     "output_type": "stream",
     "text": [
      "Cross Validation Score of 5 folds :  [0.6952381  0.67619048 0.63461538 0.67307692 0.625     ] \n",
      "\n",
      "Average Cross Validation Score 5 folds :  0.6608241758241759\n"
     ]
    },
    {
     "name": "stderr",
     "output_type": "stream",
     "text": [
      "[Parallel(n_jobs=1)]: Done   5 out of   5 | elapsed:    0.0s finished\n"
     ]
    }
   ],
   "source": [
    "'''Calculating knn model accuracy by defining 5 folds'''\n",
    "\n",
    "folds = KFold(n_splits=5, shuffle=False, random_state=10)\n",
    "CrossValScoreKnn = cross_val_score(estimator=knn, X=X_train, y=y_train, cv=folds, verbose=1)\n",
    "print(\"Cross Validation Score of 5 folds : \", CrossValScoreKnn, \"\\n\")\n",
    "print(\"Average Cross Validation Score 5 folds : \", np.mean(CrossValScoreKnn))"
   ]
  },
  {
   "cell_type": "code",
   "execution_count": 27,
   "metadata": {},
   "outputs": [
    {
     "name": "stdout",
     "output_type": "stream",
     "text": [
      "Training KNN Score for K=1 :  1.0 \n",
      "\n",
      "Training Accuracy Score for K=1 :  1.0 \n",
      "\n",
      "Training Classification Report for K=1 :\n",
      "              precision    recall  f1-score   support\n",
      "\n",
      "          0       1.00      1.00      1.00       343\n",
      "          1       1.00      1.00      1.00       179\n",
      "\n",
      "avg / total       1.00      1.00      1.00       522\n",
      " \n",
      "\n",
      "____________________________________________________________________________________________________\n",
      "Training KNN Score for K=1 :  0.72 \n",
      "\n",
      "Testing Accuracy Score for K=1 :  0.72 \n",
      "\n",
      "Testing Classification Report K=1 :\n",
      "              precision    recall  f1-score   support\n",
      "\n",
      "          0       0.78      0.81      0.79       151\n",
      "          1       0.58      0.54      0.56        74\n",
      "\n",
      "avg / total       0.72      0.72      0.72       225\n",
      " \n",
      "\n"
     ]
    }
   ],
   "source": [
    "'''Calculating KNN Score, Accuracy Score and Classification Report of Training and Testing data'''\n",
    "\n",
    "print(\"Training KNN Score for K=1 : \", knn.score(X_train, y_train), \"\\n\")\n",
    "print(\"Training Accuracy Score for K=1 : \", accuracy_score(y_train, y_train_pred_knn), \"\\n\")\n",
    "print(\"Training Classification Report for K=1 :\\n\", classification_report(y_train, y_train_pred_knn), \"\\n\")\n",
    "print(\"_\"*100)\n",
    "print(\"Training KNN Score for K=1 : \", knn.score(X_test, y_test), \"\\n\")\n",
    "print(\"Testing Accuracy Score for K=1 : \", accuracy_score(y_test, y_test_pred_knn), \"\\n\")\n",
    "print(\"Testing Classification Report K=1 :\\n\", classification_report(y_test, y_test_pred_knn), \"\\n\")"
   ]
  },
  {
   "cell_type": "code",
   "execution_count": 28,
   "metadata": {},
   "outputs": [],
   "source": [
    "'''Tuning KNN Model with K from 1 to 15 to get the best value of K'''\n",
    "\n",
    "neighbors = np.arange(1,15)\n",
    "training_accuracy = np.empty(len(neighbors))\n",
    "testing_accuracy = np.empty(len(neighbors))\n",
    "\n",
    "for i, k in enumerate(neighbors):\n",
    "    knn = KNeighborsClassifier(n_neighbors=k)\n",
    "    knn.fit(X_train, y_train)\n",
    "    training_accuracy[i] = knn.score(X_train, y_train)\n",
    "    testing_accuracy[i] = knn.score(X_test, y_test)"
   ]
  },
  {
   "cell_type": "code",
   "execution_count": 29,
   "metadata": {},
   "outputs": [
    {
     "name": "stdout",
     "output_type": "stream",
     "text": [
      "Training KNN for K=1 to 15 : (14,) \n",
      "\n",
      "Testing KNN for K=1 to 15 :  (14,) \n",
      "\n"
     ]
    }
   ],
   "source": [
    "'''Checking Training and Testing data shape after tuning them'''\n",
    "\n",
    "print(\"Training KNN for K=1 to 15 :\", training_accuracy.shape, \"\\n\")\n",
    "print(\"Testing KNN for K=1 to 15 : \", testing_accuracy.shape, \"\\n\")"
   ]
  },
  {
   "cell_type": "code",
   "execution_count": 30,
   "metadata": {},
   "outputs": [
    {
     "data": {
      "image/png": "[encoded data removed]",
      "text/plain": [
       "<Figure size 432x288 with 1 Axes>"
      ]
     },
     "metadata": {},
     "output_type": "display_data"
    }
   ],
   "source": [
    "'''Graphical representation of K=1 to 15 Neighbors w.r.t. their Accuracy Score'''\n",
    "\n",
    "plt.plot(neighbors, training_accuracy, label=\"Training Accuracy\")\n",
    "plt.plot(neighbors, testing_accuracy, label=\"Testing Accuracy\")\n",
    "plt.legend(loc=0)\n",
    "plt.xlabel(\"No. of Neighbors\")\n",
    "plt.ylabel(\"Accuracy Score\")\n",
    "plt.title(\"KNN for K=1 to 15 Neighbors\")\n",
    "plt.show()"
   ]
  },
  {
   "cell_type": "code",
   "execution_count": 31,
   "metadata": {},
   "outputs": [
    {
     "data": {
      "text/plain": [
       "KNeighborsClassifier(algorithm='auto', leaf_size=30, metric='minkowski',\n",
       "           metric_params=None, n_jobs=1, n_neighbors=11, p=2,\n",
       "           weights='uniform')"
      ]
     },
     "execution_count": 31,
     "metadata": {},
     "output_type": "execute_result"
    }
   ],
   "source": [
    "'''Best value of K appears to be 11 because the difference between training and testing accuracy scores is less \n",
    "   and the accuracies appear to be less varying further, hence fitting our model with neighbores K=11'''\n",
    "\n",
    "tuned_knn = KNeighborsClassifier(n_neighbors=11)\n",
    "tuned_knn.fit(X_train, y_train)"
   ]
  },
  {
   "cell_type": "code",
   "execution_count": 32,
   "metadata": {},
   "outputs": [
    {
     "name": "stdout",
     "output_type": "stream",
     "text": [
      "Cross Validarion Score of 5 folds for K=11 :  [0.74285714 0.75238095 0.71153846 0.77884615 0.70192308] \n",
      "\n",
      "Average Cross Validarion Score for K=11 :  0.7375091575091576 \n",
      "\n",
      "Training KNN Score for K=11 :  0.8007662835249042 \n",
      "\n",
      "Testing KNN Score for K=11 :  0.7511111111111111 \n",
      "\n"
     ]
    },
    {
     "name": "stderr",
     "output_type": "stream",
     "text": [
      "[Parallel(n_jobs=1)]: Done   5 out of   5 | elapsed:    0.0s finished\n"
     ]
    }
   ],
   "source": [
    "'''Calculating Cross Validarion Score, Training and Testing Score for K=11'''\n",
    "\n",
    "folds = KFold(n_splits=5, shuffle=False, random_state=10)\n",
    "CrossValScore_knn = cross_val_score(estimator=tuned_knn, X=X_train, y=y_train, cv=folds, verbose=1)\n",
    "print(\"Cross Validarion Score of 5 folds for K=11 : \", CrossValScore_knn, \"\\n\")\n",
    "\n",
    "print(\"Average Cross Validarion Score for K=11 : \", np.mean(CrossValScore_knn), \"\\n\")\n",
    "\n",
    "print(\"Training KNN Score for K=11 : \", tuned_knn.score(X_train, y_train), \"\\n\")\n",
    "\n",
    "print(\"Testing KNN Score for K=11 : \", tuned_knn.score(X_test, y_test), \"\\n\")"
   ]
  },
  {
   "cell_type": "markdown",
   "metadata": {},
   "source": [
    "# Using Navie Bayes Classifier Model "
   ]
  },
  {
   "cell_type": "markdown",
   "metadata": {},
   "source": [
    "# 1. Bernoulli NB Model"
   ]
  },
  {
   "cell_type": "code",
   "execution_count": 39,
   "metadata": {},
   "outputs": [],
   "source": [
    "from sklearn.naive_bayes import BernoulliNB, GaussianNB"
   ]
  },
  {
   "cell_type": "code",
   "execution_count": 48,
   "metadata": {},
   "outputs": [
    {
     "data": {
      "text/plain": [
       "BernoulliNB(alpha=1.0, binarize=0.1, class_prior=None, fit_prior=True)"
      ]
     },
     "execution_count": 48,
     "metadata": {},
     "output_type": "execute_result"
    }
   ],
   "source": [
    "BerNB = BernoulliNB(binarize=0.1)\n",
    "BerNB.fit(X_train, y_train)"
   ]
  },
  {
   "cell_type": "code",
   "execution_count": 49,
   "metadata": {},
   "outputs": [],
   "source": [
    "y_test_pred_BerNB = BerNB.predict(X_test)"
   ]
  },
  {
   "cell_type": "code",
   "execution_count": 56,
   "metadata": {},
   "outputs": [
    {
     "name": "stdout",
     "output_type": "stream",
     "text": [
      "Cross Validation Score of 5 folds Using Bernoulli NB model :  [0.74285714 0.73333333 0.70192308 0.69230769 0.67307692] \n",
      "\n",
      "Average of above scores:  0.7086996336996337\n"
     ]
    },
    {
     "name": "stderr",
     "output_type": "stream",
     "text": [
      "[Parallel(n_jobs=1)]: Done   5 out of   5 | elapsed:    0.0s finished\n"
     ]
    }
   ],
   "source": [
    "folds = KFold(n_splits=5, shuffle=False, random_state=10)\n",
    "BerNBCrossValScore = cross_val_score(estimator=BerNB, X=X_train, y=y_train, cv=folds, verbose=1)\n",
    "print(\"Cross Validation Score of 5 folds Using Bernoulli NB model : \", BerNBCrossValScore, \"\\n\")\n",
    "print(\"Average of above scores: \", np.mean(BerNBCrossValScore))"
   ]
  },
  {
   "cell_type": "code",
   "execution_count": 57,
   "metadata": {},
   "outputs": [
    {
     "name": "stdout",
     "output_type": "stream",
     "text": [
      "Accuracy Score Using Bernoulli NB model :  0.7377777777777778\n",
      "\n",
      "Classification Report of Bernoulli NB model :               precision    recall  f1-score   support\n",
      "\n",
      "          0       0.77      0.86      0.82       151\n",
      "          1       0.63      0.49      0.55        74\n",
      "\n",
      "avg / total       0.73      0.74      0.73       225\n",
      "\n",
      "\n",
      "Confusion Matrix of Bernoulli NB model :\n",
      " [[130  21]\n",
      " [ 38  36]]\n"
     ]
    }
   ],
   "source": [
    "print(\"Accuracy Score Using Bernoulli NB model : \", accuracy_score(y_test, y_test_pred_BerNB))\n",
    "print(\"\\nClassification Report of Bernoulli NB model : \", classification_report(y_test, y_test_pred_BerNB))\n",
    "print(\"\\nConfusion Matrix of Bernoulli NB model :\\n\", confusion_matrix(y_test, y_test_pred_BerNB))"
   ]
  },
  {
   "cell_type": "markdown",
   "metadata": {},
   "source": [
    "# 2. Gaussian NB Model"
   ]
  },
  {
   "cell_type": "code",
   "execution_count": 58,
   "metadata": {},
   "outputs": [
    {
     "data": {
      "text/plain": [
       "GaussianNB(priors=None)"
      ]
     },
     "execution_count": 58,
     "metadata": {},
     "output_type": "execute_result"
    }
   ],
   "source": [
    "GauNB = GaussianNB()\n",
    "GauNB.fit(X_train, y_train)"
   ]
  },
  {
   "cell_type": "code",
   "execution_count": 59,
   "metadata": {},
   "outputs": [],
   "source": [
    "y_test_pred_GauNB = GauNB.predict(X_test)"
   ]
  },
  {
   "cell_type": "code",
   "execution_count": 60,
   "metadata": {},
   "outputs": [
    {
     "name": "stdout",
     "output_type": "stream",
     "text": [
      "Cross Validation Score of 5 folds Using Gaussian NB model :  [0.78095238 0.8        0.67307692 0.73076923 0.72115385] \n",
      "\n",
      "Average of above scores:  0.7411904761904762\n"
     ]
    },
    {
     "name": "stderr",
     "output_type": "stream",
     "text": [
      "[Parallel(n_jobs=1)]: Done   5 out of   5 | elapsed:    0.0s finished\n"
     ]
    }
   ],
   "source": [
    "folds = KFold(n_splits=5, shuffle=False, random_state=10)\n",
    "GauNBCrossValScore = cross_val_score(estimator=GauNB, X=X_train, y=y_train, cv=folds, verbose=1)\n",
    "print(\"Cross Validation Score of 5 folds Using Gaussian NB model : \", GauNBCrossValScore, \"\\n\")\n",
    "print(\"Average of above scores: \", np.mean(GauNBCrossValScore))"
   ]
  },
  {
   "cell_type": "code",
   "execution_count": 61,
   "metadata": {},
   "outputs": [
    {
     "name": "stdout",
     "output_type": "stream",
     "text": [
      "Accuracy Score Using Gaussian NB model :  0.7733333333333333\n",
      "\n",
      "Classification Report of Gaussian NB model :               precision    recall  f1-score   support\n",
      "\n",
      "          0       0.82      0.84      0.83       151\n",
      "          1       0.66      0.64      0.65        74\n",
      "\n",
      "avg / total       0.77      0.77      0.77       225\n",
      "\n",
      "\n",
      "Confusion Matrix of Gaussian NB model :\n",
      " [[127  24]\n",
      " [ 27  47]]\n"
     ]
    }
   ],
   "source": [
    "print(\"Accuracy Score Using Gaussian NB model : \", accuracy_score(y_test, y_test_pred_GauNB))\n",
    "print(\"\\nClassification Report of Gaussian NB model : \", classification_report(y_test, y_test_pred_GauNB))\n",
    "print(\"\\nConfusion Matrix of Gaussian NB model :\\n\", confusion_matrix(y_test, y_test_pred_GauNB))"
   ]
  },
  {
   "cell_type": "markdown",
   "metadata": {},
   "source": [
    "# Conclusion :\n",
    "\n",
    "We see that,\n",
    "1. Logistic Regression model gives an accuracy of 80.44%\n",
    "2. K-Nearest Neighbors model gives an accuracy of 75.11%\n",
    "3. Bernoulli Naive Bayes model gives an accuracy of 73.77%\n",
    "4. Gaussian Naive Bayes model gives an accuracy of 77.33%\n",
    "\n",
    "Hence, We consider Logistic Regression model should be the best model for this problem/case."
   ]
  }
 ],
 "metadata": {
  "kernelspec": {
   "display_name": "Python 3",
   "language": "python",
   "name": "python3"
  },
  "language_info": {
   "codemirror_mode": {
    "name": "ipython",
    "version": 3
   },
   "file_extension": ".py",
   "mimetype": "text/x-python",
   "name": "python",
   "nbconvert_exporter": "python",
   "pygments_lexer": "ipython3",
   "version": "3.6.5"
  }
 },
 "nbformat": 4,
 "nbformat_minor": 2
}
